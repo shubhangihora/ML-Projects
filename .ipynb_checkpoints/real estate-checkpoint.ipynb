{
 "cells": [
  {
   "cell_type": "markdown",
   "metadata": {},
   "source": [
    "## cleaning data"
   ]
  },
  {
   "cell_type": "code",
   "execution_count": 1,
   "metadata": {
    "collapsed": true
   },
   "outputs": [],
   "source": [
    "import numpy as np\n",
    "import seaborn as sns\n",
    "import pandas as pd\n",
    "import matplotlib.pyplot as plt"
   ]
  },
  {
   "cell_type": "code",
   "execution_count": 14,
   "metadata": {},
   "outputs": [
    {
     "data": {
      "text/html": [
       "<div>\n",
       "<style>\n",
       "    .dataframe thead tr:only-child th {\n",
       "        text-align: right;\n",
       "    }\n",
       "\n",
       "    .dataframe thead th {\n",
       "        text-align: left;\n",
       "    }\n",
       "\n",
       "    .dataframe tbody tr th {\n",
       "        vertical-align: top;\n",
       "    }\n",
       "</style>\n",
       "<table border=\"1\" class=\"dataframe\">\n",
       "  <thead>\n",
       "    <tr style=\"text-align: right;\">\n",
       "      <th></th>\n",
       "      <th>PID</th>\n",
       "      <th>ST_NUM</th>\n",
       "      <th>ST_NAME</th>\n",
       "      <th>OWN_OCCUPIED</th>\n",
       "      <th>NUM_BEDROOMS</th>\n",
       "      <th>NUM_BATH</th>\n",
       "      <th>SQ_FT</th>\n",
       "    </tr>\n",
       "  </thead>\n",
       "  <tbody>\n",
       "    <tr>\n",
       "      <th>0</th>\n",
       "      <td>100001000.0</td>\n",
       "      <td>104.0</td>\n",
       "      <td>PUTNAM</td>\n",
       "      <td>Y</td>\n",
       "      <td>3</td>\n",
       "      <td>1</td>\n",
       "      <td>1000</td>\n",
       "    </tr>\n",
       "    <tr>\n",
       "      <th>1</th>\n",
       "      <td>100002000.0</td>\n",
       "      <td>197.0</td>\n",
       "      <td>LEXINGTON</td>\n",
       "      <td>N</td>\n",
       "      <td>3</td>\n",
       "      <td>1.5</td>\n",
       "      <td>--</td>\n",
       "    </tr>\n",
       "    <tr>\n",
       "      <th>2</th>\n",
       "      <td>100003000.0</td>\n",
       "      <td>NaN</td>\n",
       "      <td>LEXINGTON</td>\n",
       "      <td>N</td>\n",
       "      <td>n/a</td>\n",
       "      <td>1</td>\n",
       "      <td>850</td>\n",
       "    </tr>\n",
       "    <tr>\n",
       "      <th>3</th>\n",
       "      <td>100004000.0</td>\n",
       "      <td>201.0</td>\n",
       "      <td>BERKELEY</td>\n",
       "      <td>12</td>\n",
       "      <td>1</td>\n",
       "      <td>NaN</td>\n",
       "      <td>700</td>\n",
       "    </tr>\n",
       "    <tr>\n",
       "      <th>4</th>\n",
       "      <td>NaN</td>\n",
       "      <td>203.0</td>\n",
       "      <td>BERKELEY</td>\n",
       "      <td>Y</td>\n",
       "      <td>3</td>\n",
       "      <td>2</td>\n",
       "      <td>1600</td>\n",
       "    </tr>\n",
       "    <tr>\n",
       "      <th>5</th>\n",
       "      <td>100006000.0</td>\n",
       "      <td>207.0</td>\n",
       "      <td>BERKELEY</td>\n",
       "      <td>Y</td>\n",
       "      <td>NaN</td>\n",
       "      <td>1</td>\n",
       "      <td>800</td>\n",
       "    </tr>\n",
       "    <tr>\n",
       "      <th>6</th>\n",
       "      <td>100007000.0</td>\n",
       "      <td>NaN</td>\n",
       "      <td>WASHINGTON</td>\n",
       "      <td>NaN</td>\n",
       "      <td>2</td>\n",
       "      <td>HURLEY</td>\n",
       "      <td>950</td>\n",
       "    </tr>\n",
       "    <tr>\n",
       "      <th>7</th>\n",
       "      <td>100008000.0</td>\n",
       "      <td>213.0</td>\n",
       "      <td>TREMONT</td>\n",
       "      <td>Y</td>\n",
       "      <td>1</td>\n",
       "      <td>1</td>\n",
       "      <td>NaN</td>\n",
       "    </tr>\n",
       "    <tr>\n",
       "      <th>8</th>\n",
       "      <td>100009000.0</td>\n",
       "      <td>215.0</td>\n",
       "      <td>TREMONT</td>\n",
       "      <td>Y</td>\n",
       "      <td>na</td>\n",
       "      <td>2</td>\n",
       "      <td>1800</td>\n",
       "    </tr>\n",
       "  </tbody>\n",
       "</table>\n",
       "</div>"
      ],
      "text/plain": [
       "           PID  ST_NUM     ST_NAME OWN_OCCUPIED NUM_BEDROOMS NUM_BATH SQ_FT\n",
       "0  100001000.0   104.0      PUTNAM            Y            3        1  1000\n",
       "1  100002000.0   197.0   LEXINGTON            N            3      1.5    --\n",
       "2  100003000.0     NaN   LEXINGTON            N          n/a        1   850\n",
       "3  100004000.0   201.0    BERKELEY           12            1      NaN   700\n",
       "4          NaN   203.0    BERKELEY            Y            3        2  1600\n",
       "5  100006000.0   207.0    BERKELEY            Y          NaN        1   800\n",
       "6  100007000.0     NaN  WASHINGTON          NaN            2   HURLEY   950\n",
       "7  100008000.0   213.0     TREMONT            Y            1        1   NaN\n",
       "8  100009000.0   215.0     TREMONT            Y           na        2  1800"
      ]
     },
     "execution_count": 14,
     "metadata": {},
     "output_type": "execute_result"
    }
   ],
   "source": [
    "url = \"https://raw.githubusercontent.com/dataoptimal/posts/master/data%20cleaning%20with%20python%20and%20pandas/property%20data.csv\"\n",
    "data = pd.read_csv(url)\n",
    "data"
   ]
  },
  {
   "cell_type": "markdown",
   "metadata": {},
   "source": [
    "figure out what your features and their expected types are\n",
    "\n",
    "features:\n",
    "- street number -- int\n",
    "- street name -- string\n",
    "- owner occupied  -- string\n",
    "- number of bedrooms -- int\n",
    "- number of bathrooms -- float\n",
    "- area -- int\n",
    "\n"
   ]
  },
  {
   "cell_type": "code",
   "execution_count": 8,
   "metadata": {},
   "outputs": [
    {
     "name": "stdout",
     "output_type": "stream",
     "text": [
      "0    104.0\n",
      "1    197.0\n",
      "2      NaN\n",
      "3    201.0\n",
      "4    203.0\n",
      "5    207.0\n",
      "6      NaN\n",
      "7    213.0\n",
      "8    215.0\n",
      "Name: ST_NUM, dtype: float64\n",
      "2\n"
     ]
    }
   ],
   "source": [
    "print(data['ST_NUM'])\n",
    "print(data['ST_NUM'].isnull().sum())"
   ]
  },
  {
   "cell_type": "markdown",
   "metadata": {},
   "source": [
    "NaN is a standard missing value and so pandas recognizes it \n",
    "\n",
    "however, pandas doesnt recognize non-standard values:"
   ]
  },
  {
   "cell_type": "code",
   "execution_count": 9,
   "metadata": {},
   "outputs": [
    {
     "name": "stdout",
     "output_type": "stream",
     "text": [
      "0      3\n",
      "1      3\n",
      "2    n/a\n",
      "3      1\n",
      "4      3\n",
      "5    NaN\n",
      "6      2\n",
      "7      1\n",
      "8     na\n",
      "Name: NUM_BEDROOMS, dtype: object\n",
      "1\n"
     ]
    }
   ],
   "source": [
    "print(data['NUM_BEDROOMS'])\n",
    "print(data['NUM_BEDROOMS'].isnull().sum())"
   ]
  },
  {
   "cell_type": "markdown",
   "metadata": {},
   "source": [
    "^^ claims there's only one missing value when there are in fact three, so you can add these to the list when you're importing the dataset"
   ]
  },
  {
   "cell_type": "code",
   "execution_count": 15,
   "metadata": {},
   "outputs": [
    {
     "data": {
      "text/html": [
       "<div>\n",
       "<style>\n",
       "    .dataframe thead tr:only-child th {\n",
       "        text-align: right;\n",
       "    }\n",
       "\n",
       "    .dataframe thead th {\n",
       "        text-align: left;\n",
       "    }\n",
       "\n",
       "    .dataframe tbody tr th {\n",
       "        vertical-align: top;\n",
       "    }\n",
       "</style>\n",
       "<table border=\"1\" class=\"dataframe\">\n",
       "  <thead>\n",
       "    <tr style=\"text-align: right;\">\n",
       "      <th></th>\n",
       "      <th>PID</th>\n",
       "      <th>ST_NUM</th>\n",
       "      <th>ST_NAME</th>\n",
       "      <th>OWN_OCCUPIED</th>\n",
       "      <th>NUM_BEDROOMS</th>\n",
       "      <th>NUM_BATH</th>\n",
       "      <th>SQ_FT</th>\n",
       "    </tr>\n",
       "  </thead>\n",
       "  <tbody>\n",
       "    <tr>\n",
       "      <th>0</th>\n",
       "      <td>100001000.0</td>\n",
       "      <td>104.0</td>\n",
       "      <td>PUTNAM</td>\n",
       "      <td>Y</td>\n",
       "      <td>3.0</td>\n",
       "      <td>1</td>\n",
       "      <td>1000.0</td>\n",
       "    </tr>\n",
       "    <tr>\n",
       "      <th>1</th>\n",
       "      <td>100002000.0</td>\n",
       "      <td>197.0</td>\n",
       "      <td>LEXINGTON</td>\n",
       "      <td>N</td>\n",
       "      <td>3.0</td>\n",
       "      <td>1.5</td>\n",
       "      <td>NaN</td>\n",
       "    </tr>\n",
       "    <tr>\n",
       "      <th>2</th>\n",
       "      <td>100003000.0</td>\n",
       "      <td>NaN</td>\n",
       "      <td>LEXINGTON</td>\n",
       "      <td>N</td>\n",
       "      <td>NaN</td>\n",
       "      <td>1</td>\n",
       "      <td>850.0</td>\n",
       "    </tr>\n",
       "    <tr>\n",
       "      <th>3</th>\n",
       "      <td>100004000.0</td>\n",
       "      <td>201.0</td>\n",
       "      <td>BERKELEY</td>\n",
       "      <td>12</td>\n",
       "      <td>1.0</td>\n",
       "      <td>NaN</td>\n",
       "      <td>700.0</td>\n",
       "    </tr>\n",
       "    <tr>\n",
       "      <th>4</th>\n",
       "      <td>NaN</td>\n",
       "      <td>203.0</td>\n",
       "      <td>BERKELEY</td>\n",
       "      <td>Y</td>\n",
       "      <td>3.0</td>\n",
       "      <td>2</td>\n",
       "      <td>1600.0</td>\n",
       "    </tr>\n",
       "    <tr>\n",
       "      <th>5</th>\n",
       "      <td>100006000.0</td>\n",
       "      <td>207.0</td>\n",
       "      <td>BERKELEY</td>\n",
       "      <td>Y</td>\n",
       "      <td>NaN</td>\n",
       "      <td>1</td>\n",
       "      <td>800.0</td>\n",
       "    </tr>\n",
       "    <tr>\n",
       "      <th>6</th>\n",
       "      <td>100007000.0</td>\n",
       "      <td>NaN</td>\n",
       "      <td>WASHINGTON</td>\n",
       "      <td>NaN</td>\n",
       "      <td>2.0</td>\n",
       "      <td>HURLEY</td>\n",
       "      <td>950.0</td>\n",
       "    </tr>\n",
       "    <tr>\n",
       "      <th>7</th>\n",
       "      <td>100008000.0</td>\n",
       "      <td>213.0</td>\n",
       "      <td>TREMONT</td>\n",
       "      <td>Y</td>\n",
       "      <td>1.0</td>\n",
       "      <td>1</td>\n",
       "      <td>NaN</td>\n",
       "    </tr>\n",
       "    <tr>\n",
       "      <th>8</th>\n",
       "      <td>100009000.0</td>\n",
       "      <td>215.0</td>\n",
       "      <td>TREMONT</td>\n",
       "      <td>Y</td>\n",
       "      <td>NaN</td>\n",
       "      <td>2</td>\n",
       "      <td>1800.0</td>\n",
       "    </tr>\n",
       "  </tbody>\n",
       "</table>\n",
       "</div>"
      ],
      "text/plain": [
       "           PID  ST_NUM     ST_NAME OWN_OCCUPIED  NUM_BEDROOMS NUM_BATH   SQ_FT\n",
       "0  100001000.0   104.0      PUTNAM            Y           3.0        1  1000.0\n",
       "1  100002000.0   197.0   LEXINGTON            N           3.0      1.5     NaN\n",
       "2  100003000.0     NaN   LEXINGTON            N           NaN        1   850.0\n",
       "3  100004000.0   201.0    BERKELEY           12           1.0      NaN   700.0\n",
       "4          NaN   203.0    BERKELEY            Y           3.0        2  1600.0\n",
       "5  100006000.0   207.0    BERKELEY            Y           NaN        1   800.0\n",
       "6  100007000.0     NaN  WASHINGTON          NaN           2.0   HURLEY   950.0\n",
       "7  100008000.0   213.0     TREMONT            Y           1.0        1     NaN\n",
       "8  100009000.0   215.0     TREMONT            Y           NaN        2  1800.0"
      ]
     },
     "execution_count": 15,
     "metadata": {},
     "output_type": "execute_result"
    }
   ],
   "source": [
    "url = \"https://raw.githubusercontent.com/dataoptimal/posts/master/data%20cleaning%20with%20python%20and%20pandas/property%20data.csv\"\n",
    "missing = [\"n/a\", \"na\", \"--\"]\n",
    "data = pd.read_csv(url, na_values = missing)\n",
    "data"
   ]
  },
  {
   "cell_type": "markdown",
   "metadata": {},
   "source": [
    "^^ now all the missing values are NaN, which means pandas will recognize them"
   ]
  },
  {
   "cell_type": "code",
   "execution_count": 16,
   "metadata": {},
   "outputs": [
    {
     "name": "stdout",
     "output_type": "stream",
     "text": [
      "0    3.0\n",
      "1    3.0\n",
      "2    NaN\n",
      "3    1.0\n",
      "4    3.0\n",
      "5    NaN\n",
      "6    2.0\n",
      "7    1.0\n",
      "8    NaN\n",
      "Name: NUM_BEDROOMS, dtype: float64\n",
      "3\n"
     ]
    }
   ],
   "source": [
    "print(data[\"NUM_BEDROOMS\"])\n",
    "print(data[\"NUM_BEDROOMS\"].isnull().sum())"
   ]
  },
  {
   "cell_type": "markdown",
   "metadata": {},
   "source": [
    "the own_occupied has an unexpected value though - it's a string column but one entry is of type int (12)\n",
    "\n",
    "so to fix this, we can loop through all the entries of the column and convert the integer values to NaN as follows:"
   ]
  },
  {
   "cell_type": "code",
   "execution_count": 17,
   "metadata": {
    "collapsed": true
   },
   "outputs": [],
   "source": [
    "count = 0\n",
    "\n",
    "for o in data[\"OWN_OCCUPIED\"]:\n",
    "    try:\n",
    "        int(o)\n",
    "        data.loc[count, \"OWN_OCCUPIED\"] = np.nan\n",
    "    except ValueError:\n",
    "        pass\n",
    "    count += 1"
   ]
  },
  {
   "cell_type": "code",
   "execution_count": 18,
   "metadata": {},
   "outputs": [
    {
     "name": "stdout",
     "output_type": "stream",
     "text": [
      "0      Y\n",
      "1      N\n",
      "2      N\n",
      "3    NaN\n",
      "4      Y\n",
      "5      Y\n",
      "6    NaN\n",
      "7      Y\n",
      "8      Y\n",
      "Name: OWN_OCCUPIED, dtype: object\n",
      "2\n"
     ]
    }
   ],
   "source": [
    "print(data[\"OWN_OCCUPIED\"])\n",
    "print(data[\"OWN_OCCUPIED\"].isnull().sum())"
   ]
  },
  {
   "cell_type": "code",
   "execution_count": 19,
   "metadata": {},
   "outputs": [
    {
     "name": "stdout",
     "output_type": "stream",
     "text": [
      "PID             1\n",
      "ST_NUM          2\n",
      "ST_NAME         0\n",
      "OWN_OCCUPIED    2\n",
      "NUM_BEDROOMS    3\n",
      "NUM_BATH        1\n",
      "SQ_FT           2\n",
      "dtype: int64\n"
     ]
    }
   ],
   "source": [
    "print(data.isnull().sum())"
   ]
  },
  {
   "cell_type": "code",
   "execution_count": 20,
   "metadata": {},
   "outputs": [
    {
     "name": "stdout",
     "output_type": "stream",
     "text": [
      "True\n"
     ]
    }
   ],
   "source": [
    "print(data.isnull().values.any())"
   ]
  },
  {
   "cell_type": "code",
   "execution_count": 21,
   "metadata": {},
   "outputs": [
    {
     "name": "stdout",
     "output_type": "stream",
     "text": [
      "11\n"
     ]
    }
   ],
   "source": [
    "print(data.isnull().sum().sum())"
   ]
  },
  {
   "cell_type": "markdown",
   "metadata": {},
   "source": [
    "### replacing missing values"
   ]
  },
  {
   "cell_type": "code",
   "execution_count": 23,
   "metadata": {},
   "outputs": [
    {
     "data": {
      "text/plain": [
       "0    104.0\n",
       "1    197.0\n",
       "2    114.0\n",
       "3    201.0\n",
       "4    203.0\n",
       "5    207.0\n",
       "6    114.0\n",
       "7    213.0\n",
       "8    215.0\n",
       "Name: ST_NUM, dtype: float64"
      ]
     },
     "execution_count": 23,
     "metadata": {},
     "output_type": "execute_result"
    }
   ],
   "source": [
    "data[\"ST_NUM\"].fillna(114, inplace = True)\n",
    "data[\"ST_NUM\"]"
   ]
  },
  {
   "cell_type": "code",
   "execution_count": 27,
   "metadata": {},
   "outputs": [
    {
     "data": {
      "text/plain": [
       "0    104.0\n",
       "1    197.0\n",
       "2    114.0\n",
       "3    201.0\n",
       "4    203.0\n",
       "5    207.0\n",
       "6    114.0\n",
       "7    213.0\n",
       "8    215.0\n",
       "Name: ST_NUM, dtype: float64"
      ]
     },
     "execution_count": 27,
     "metadata": {},
     "output_type": "execute_result"
    }
   ],
   "source": [
    "mean = data[\"ST_NUM\"].mean()\n",
    "data[\"ST_NUM\"].fillna(mean, inplace = True)\n",
    "data[\"ST_NUM\"] #not showing because since we filled the NaN values with 114 first, there aren't any NaN values remaining to be filled"
   ]
  },
  {
   "cell_type": "code",
   "execution_count": 26,
   "metadata": {},
   "outputs": [
    {
     "data": {
      "text/plain": [
       "174.22222222222223"
      ]
     },
     "execution_count": 26,
     "metadata": {},
     "output_type": "execute_result"
    }
   ],
   "source": [
    "data[\"ST_NUM\"].mean() #what the NaN values would've been replaced with "
   ]
  },
  {
   "cell_type": "code",
   "execution_count": null,
   "metadata": {
    "collapsed": true
   },
   "outputs": [],
   "source": []
  }
 ],
 "metadata": {
  "kernelspec": {
   "display_name": "Python 3",
   "language": "python",
   "name": "python3"
  },
  "language_info": {
   "codemirror_mode": {
    "name": "ipython",
    "version": 3
   },
   "file_extension": ".py",
   "mimetype": "text/x-python",
   "name": "python",
   "nbconvert_exporter": "python",
   "pygments_lexer": "ipython3",
   "version": "3.6.2"
  }
 },
 "nbformat": 4,
 "nbformat_minor": 2
}
